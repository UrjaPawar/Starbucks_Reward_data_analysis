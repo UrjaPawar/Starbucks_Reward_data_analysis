{
 "cells": [
  {
   "cell_type": "code",
   "execution_count": 260,
   "metadata": {},
   "outputs": [],
   "source": [
    "import pandas as pd\n",
    "import numpy as np\n",
    "import math\n",
    "import json\n",
    "from datetime import datetime\n",
    "import re\n",
    "import os\n",
    "from sklearn.preprocessing import LabelBinarizer, MultiLabelBinarizer\n",
    "% matplotlib inline\n",
    "from matplotlib import pyplot"
   ]
  },
  {
   "cell_type": "markdown",
   "metadata": {},
   "source": [
    "# Part 1: Importing and Understanding"
   ]
  },
  {
   "cell_type": "code",
   "execution_count": 264,
   "metadata": {},
   "outputs": [],
   "source": [
    "# read in the json files\n",
    "portfolio = pd.read_json('data/portfolio.json', orient='records', lines=True)\n",
    "profile = pd.read_json('data/profile.json', orient='records', lines=True)\n",
    "transcript = pd.read_json('data/transcript.json', orient='records', lines=True)"
   ]
  },
  {
   "cell_type": "markdown",
   "metadata": {},
   "source": [
    "# Let's first see what the data looks like"
   ]
  },
  {
   "cell_type": "code",
   "execution_count": 265,
   "metadata": {},
   "outputs": [
    {
     "data": {
      "text/html": [
       "<div>\n",
       "<style scoped>\n",
       "    .dataframe tbody tr th:only-of-type {\n",
       "        vertical-align: middle;\n",
       "    }\n",
       "\n",
       "    .dataframe tbody tr th {\n",
       "        vertical-align: top;\n",
       "    }\n",
       "\n",
       "    .dataframe thead th {\n",
       "        text-align: right;\n",
       "    }\n",
       "</style>\n",
       "<table border=\"1\" class=\"dataframe\">\n",
       "  <thead>\n",
       "    <tr style=\"text-align: right;\">\n",
       "      <th></th>\n",
       "      <th>channels</th>\n",
       "      <th>difficulty</th>\n",
       "      <th>duration</th>\n",
       "      <th>id</th>\n",
       "      <th>offer_type</th>\n",
       "      <th>reward</th>\n",
       "    </tr>\n",
       "  </thead>\n",
       "  <tbody>\n",
       "    <tr>\n",
       "      <th>0</th>\n",
       "      <td>[email, mobile, social]</td>\n",
       "      <td>10</td>\n",
       "      <td>7</td>\n",
       "      <td>ae264e3637204a6fb9bb56bc8210ddfd</td>\n",
       "      <td>bogo</td>\n",
       "      <td>10</td>\n",
       "    </tr>\n",
       "    <tr>\n",
       "      <th>1</th>\n",
       "      <td>[web, email, mobile, social]</td>\n",
       "      <td>10</td>\n",
       "      <td>5</td>\n",
       "      <td>4d5c57ea9a6940dd891ad53e9dbe8da0</td>\n",
       "      <td>bogo</td>\n",
       "      <td>10</td>\n",
       "    </tr>\n",
       "    <tr>\n",
       "      <th>2</th>\n",
       "      <td>[web, email, mobile]</td>\n",
       "      <td>0</td>\n",
       "      <td>4</td>\n",
       "      <td>3f207df678b143eea3cee63160fa8bed</td>\n",
       "      <td>informational</td>\n",
       "      <td>0</td>\n",
       "    </tr>\n",
       "    <tr>\n",
       "      <th>3</th>\n",
       "      <td>[web, email, mobile]</td>\n",
       "      <td>5</td>\n",
       "      <td>7</td>\n",
       "      <td>9b98b8c7a33c4b65b9aebfe6a799e6d9</td>\n",
       "      <td>bogo</td>\n",
       "      <td>5</td>\n",
       "    </tr>\n",
       "    <tr>\n",
       "      <th>4</th>\n",
       "      <td>[web, email]</td>\n",
       "      <td>20</td>\n",
       "      <td>10</td>\n",
       "      <td>0b1e1539f2cc45b7b9fa7c272da2e1d7</td>\n",
       "      <td>discount</td>\n",
       "      <td>5</td>\n",
       "    </tr>\n",
       "  </tbody>\n",
       "</table>\n",
       "</div>"
      ],
      "text/plain": [
       "                       channels  difficulty  duration  \\\n",
       "0       [email, mobile, social]          10         7   \n",
       "1  [web, email, mobile, social]          10         5   \n",
       "2          [web, email, mobile]           0         4   \n",
       "3          [web, email, mobile]           5         7   \n",
       "4                  [web, email]          20        10   \n",
       "\n",
       "                                 id     offer_type  reward  \n",
       "0  ae264e3637204a6fb9bb56bc8210ddfd           bogo      10  \n",
       "1  4d5c57ea9a6940dd891ad53e9dbe8da0           bogo      10  \n",
       "2  3f207df678b143eea3cee63160fa8bed  informational       0  \n",
       "3  9b98b8c7a33c4b65b9aebfe6a799e6d9           bogo       5  \n",
       "4  0b1e1539f2cc45b7b9fa7c272da2e1d7       discount       5  "
      ]
     },
     "execution_count": 265,
     "metadata": {},
     "output_type": "execute_result"
    }
   ],
   "source": [
    "portfolio.head()"
   ]
  },
  {
   "cell_type": "markdown",
   "metadata": {},
   "source": [
    "## Here, channels are the medium through which offers are distributed and all the features related to an offer type are given"
   ]
  },
  {
   "cell_type": "code",
   "execution_count": 266,
   "metadata": {},
   "outputs": [
    {
     "data": {
      "text/html": [
       "<div>\n",
       "<style scoped>\n",
       "    .dataframe tbody tr th:only-of-type {\n",
       "        vertical-align: middle;\n",
       "    }\n",
       "\n",
       "    .dataframe tbody tr th {\n",
       "        vertical-align: top;\n",
       "    }\n",
       "\n",
       "    .dataframe thead th {\n",
       "        text-align: right;\n",
       "    }\n",
       "</style>\n",
       "<table border=\"1\" class=\"dataframe\">\n",
       "  <thead>\n",
       "    <tr style=\"text-align: right;\">\n",
       "      <th></th>\n",
       "      <th>age</th>\n",
       "      <th>became_member_on</th>\n",
       "      <th>gender</th>\n",
       "      <th>id</th>\n",
       "      <th>income</th>\n",
       "    </tr>\n",
       "  </thead>\n",
       "  <tbody>\n",
       "    <tr>\n",
       "      <th>0</th>\n",
       "      <td>118</td>\n",
       "      <td>20170212</td>\n",
       "      <td>None</td>\n",
       "      <td>68be06ca386d4c31939f3a4f0e3dd783</td>\n",
       "      <td>NaN</td>\n",
       "    </tr>\n",
       "    <tr>\n",
       "      <th>1</th>\n",
       "      <td>55</td>\n",
       "      <td>20170715</td>\n",
       "      <td>F</td>\n",
       "      <td>0610b486422d4921ae7d2bf64640c50b</td>\n",
       "      <td>112000.0</td>\n",
       "    </tr>\n",
       "    <tr>\n",
       "      <th>2</th>\n",
       "      <td>118</td>\n",
       "      <td>20180712</td>\n",
       "      <td>None</td>\n",
       "      <td>38fe809add3b4fcf9315a9694bb96ff5</td>\n",
       "      <td>NaN</td>\n",
       "    </tr>\n",
       "    <tr>\n",
       "      <th>3</th>\n",
       "      <td>75</td>\n",
       "      <td>20170509</td>\n",
       "      <td>F</td>\n",
       "      <td>78afa995795e4d85b5d9ceeca43f5fef</td>\n",
       "      <td>100000.0</td>\n",
       "    </tr>\n",
       "    <tr>\n",
       "      <th>4</th>\n",
       "      <td>118</td>\n",
       "      <td>20170804</td>\n",
       "      <td>None</td>\n",
       "      <td>a03223e636434f42ac4c3df47e8bac43</td>\n",
       "      <td>NaN</td>\n",
       "    </tr>\n",
       "  </tbody>\n",
       "</table>\n",
       "</div>"
      ],
      "text/plain": [
       "   age  became_member_on gender                                id    income\n",
       "0  118          20170212   None  68be06ca386d4c31939f3a4f0e3dd783       NaN\n",
       "1   55          20170715      F  0610b486422d4921ae7d2bf64640c50b  112000.0\n",
       "2  118          20180712   None  38fe809add3b4fcf9315a9694bb96ff5       NaN\n",
       "3   75          20170509      F  78afa995795e4d85b5d9ceeca43f5fef  100000.0\n",
       "4  118          20170804   None  a03223e636434f42ac4c3df47e8bac43       NaN"
      ]
     },
     "execution_count": 266,
     "metadata": {},
     "output_type": "execute_result"
    }
   ],
   "source": [
    "profile.head()"
   ]
  },
  {
   "cell_type": "markdown",
   "metadata": {},
   "source": [
    "## Profile data contains the information specific to customers, such as their age and gender"
   ]
  },
  {
   "cell_type": "code",
   "execution_count": 267,
   "metadata": {},
   "outputs": [
    {
     "data": {
      "text/html": [
       "<div>\n",
       "<style scoped>\n",
       "    .dataframe tbody tr th:only-of-type {\n",
       "        vertical-align: middle;\n",
       "    }\n",
       "\n",
       "    .dataframe tbody tr th {\n",
       "        vertical-align: top;\n",
       "    }\n",
       "\n",
       "    .dataframe thead th {\n",
       "        text-align: right;\n",
       "    }\n",
       "</style>\n",
       "<table border=\"1\" class=\"dataframe\">\n",
       "  <thead>\n",
       "    <tr style=\"text-align: right;\">\n",
       "      <th></th>\n",
       "      <th>event</th>\n",
       "      <th>person</th>\n",
       "      <th>time</th>\n",
       "      <th>value</th>\n",
       "    </tr>\n",
       "  </thead>\n",
       "  <tbody>\n",
       "    <tr>\n",
       "      <th>0</th>\n",
       "      <td>offer received</td>\n",
       "      <td>78afa995795e4d85b5d9ceeca43f5fef</td>\n",
       "      <td>0</td>\n",
       "      <td>{'offer id': '9b98b8c7a33c4b65b9aebfe6a799e6d9'}</td>\n",
       "    </tr>\n",
       "    <tr>\n",
       "      <th>1</th>\n",
       "      <td>offer received</td>\n",
       "      <td>a03223e636434f42ac4c3df47e8bac43</td>\n",
       "      <td>0</td>\n",
       "      <td>{'offer id': '0b1e1539f2cc45b7b9fa7c272da2e1d7'}</td>\n",
       "    </tr>\n",
       "    <tr>\n",
       "      <th>2</th>\n",
       "      <td>offer received</td>\n",
       "      <td>e2127556f4f64592b11af22de27a7932</td>\n",
       "      <td>0</td>\n",
       "      <td>{'offer id': '2906b810c7d4411798c6938adc9daaa5'}</td>\n",
       "    </tr>\n",
       "    <tr>\n",
       "      <th>3</th>\n",
       "      <td>offer received</td>\n",
       "      <td>8ec6ce2a7e7949b1bf142def7d0e0586</td>\n",
       "      <td>0</td>\n",
       "      <td>{'offer id': 'fafdcd668e3743c1bb461111dcafc2a4'}</td>\n",
       "    </tr>\n",
       "    <tr>\n",
       "      <th>4</th>\n",
       "      <td>offer received</td>\n",
       "      <td>68617ca6246f4fbc85e91a2a49552598</td>\n",
       "      <td>0</td>\n",
       "      <td>{'offer id': '4d5c57ea9a6940dd891ad53e9dbe8da0'}</td>\n",
       "    </tr>\n",
       "  </tbody>\n",
       "</table>\n",
       "</div>"
      ],
      "text/plain": [
       "            event                            person  time  \\\n",
       "0  offer received  78afa995795e4d85b5d9ceeca43f5fef     0   \n",
       "1  offer received  a03223e636434f42ac4c3df47e8bac43     0   \n",
       "2  offer received  e2127556f4f64592b11af22de27a7932     0   \n",
       "3  offer received  8ec6ce2a7e7949b1bf142def7d0e0586     0   \n",
       "4  offer received  68617ca6246f4fbc85e91a2a49552598     0   \n",
       "\n",
       "                                              value  \n",
       "0  {'offer id': '9b98b8c7a33c4b65b9aebfe6a799e6d9'}  \n",
       "1  {'offer id': '0b1e1539f2cc45b7b9fa7c272da2e1d7'}  \n",
       "2  {'offer id': '2906b810c7d4411798c6938adc9daaa5'}  \n",
       "3  {'offer id': 'fafdcd668e3743c1bb461111dcafc2a4'}  \n",
       "4  {'offer id': '4d5c57ea9a6940dd891ad53e9dbe8da0'}  "
      ]
     },
     "execution_count": 267,
     "metadata": {},
     "output_type": "execute_result"
    }
   ],
   "source": [
    "transcript.head()"
   ]
  },
  {
   "cell_type": "markdown",
   "metadata": {},
   "source": [
    "## Transcript is the data that maintains what offers were being received, viewed and completed and by whom along with the transactions taking place in the application"
   ]
  },
  {
   "cell_type": "markdown",
   "metadata": {},
   "source": [
    "# Part -2: Cleaning and Pre-processing\n",
    "### We will start cleaning and basic pre-processing required in each of the dataframes that we have"
   ]
  },
  {
   "cell_type": "code",
   "execution_count": 268,
   "metadata": {},
   "outputs": [],
   "source": [
    "# cleaning and processing portfolio data \n",
    "# first hot-encode the offer_type information into: bogo, discount and informational offer columns\n",
    "offertype_data = pd.get_dummies(portfolio['offer_type'])\n",
    "\n",
    "#next we will use label binariser as the information regarding channels is present as an array instead of single values\n",
    "binariser = MultiLabelBinarizer()\n",
    "binariser.fit(portfolio['channels'])\n",
    "channels_data = pd.DataFrame(binariser.transform(portfolio['channels']),columns=binariser.classes_)\n",
    "\n",
    "#we will combine the columns created until now\n",
    "portfolio = pd.concat([portfolio, offertype_data, channels_data], axis=1)\n",
    "\n",
    "# renaming id as offer id to avoid confusion with customer id\n",
    "portfolio['offerid']=portfolio['id']\n",
    "\n",
    "# dropping unnecessary columns\n",
    "portfolio = portfolio.drop(columns=['id','offer_type', 'channels'])\n",
    "\n",
    "columns_list = ['offerid','difficulty', 'duration','reward']\n",
    "columns_list.extend(offertype_data.columns.values)\n",
    "columns_list.extend(channels_data.columns.values)\n",
    "portfolio = portfolio[columns_list]\n"
   ]
  },
  {
   "cell_type": "code",
   "execution_count": 269,
   "metadata": {},
   "outputs": [
    {
     "data": {
      "text/html": [
       "<div>\n",
       "<style scoped>\n",
       "    .dataframe tbody tr th:only-of-type {\n",
       "        vertical-align: middle;\n",
       "    }\n",
       "\n",
       "    .dataframe tbody tr th {\n",
       "        vertical-align: top;\n",
       "    }\n",
       "\n",
       "    .dataframe thead th {\n",
       "        text-align: right;\n",
       "    }\n",
       "</style>\n",
       "<table border=\"1\" class=\"dataframe\">\n",
       "  <thead>\n",
       "    <tr style=\"text-align: right;\">\n",
       "      <th></th>\n",
       "      <th>offerid</th>\n",
       "      <th>difficulty</th>\n",
       "      <th>duration</th>\n",
       "      <th>reward</th>\n",
       "      <th>bogo</th>\n",
       "      <th>discount</th>\n",
       "      <th>informational</th>\n",
       "      <th>email</th>\n",
       "      <th>mobile</th>\n",
       "      <th>social</th>\n",
       "      <th>web</th>\n",
       "    </tr>\n",
       "  </thead>\n",
       "  <tbody>\n",
       "    <tr>\n",
       "      <th>0</th>\n",
       "      <td>ae264e3637204a6fb9bb56bc8210ddfd</td>\n",
       "      <td>10</td>\n",
       "      <td>7</td>\n",
       "      <td>10</td>\n",
       "      <td>1</td>\n",
       "      <td>0</td>\n",
       "      <td>0</td>\n",
       "      <td>1</td>\n",
       "      <td>1</td>\n",
       "      <td>1</td>\n",
       "      <td>0</td>\n",
       "    </tr>\n",
       "    <tr>\n",
       "      <th>1</th>\n",
       "      <td>4d5c57ea9a6940dd891ad53e9dbe8da0</td>\n",
       "      <td>10</td>\n",
       "      <td>5</td>\n",
       "      <td>10</td>\n",
       "      <td>1</td>\n",
       "      <td>0</td>\n",
       "      <td>0</td>\n",
       "      <td>1</td>\n",
       "      <td>1</td>\n",
       "      <td>1</td>\n",
       "      <td>1</td>\n",
       "    </tr>\n",
       "    <tr>\n",
       "      <th>2</th>\n",
       "      <td>3f207df678b143eea3cee63160fa8bed</td>\n",
       "      <td>0</td>\n",
       "      <td>4</td>\n",
       "      <td>0</td>\n",
       "      <td>0</td>\n",
       "      <td>0</td>\n",
       "      <td>1</td>\n",
       "      <td>1</td>\n",
       "      <td>1</td>\n",
       "      <td>0</td>\n",
       "      <td>1</td>\n",
       "    </tr>\n",
       "    <tr>\n",
       "      <th>3</th>\n",
       "      <td>9b98b8c7a33c4b65b9aebfe6a799e6d9</td>\n",
       "      <td>5</td>\n",
       "      <td>7</td>\n",
       "      <td>5</td>\n",
       "      <td>1</td>\n",
       "      <td>0</td>\n",
       "      <td>0</td>\n",
       "      <td>1</td>\n",
       "      <td>1</td>\n",
       "      <td>0</td>\n",
       "      <td>1</td>\n",
       "    </tr>\n",
       "    <tr>\n",
       "      <th>4</th>\n",
       "      <td>0b1e1539f2cc45b7b9fa7c272da2e1d7</td>\n",
       "      <td>20</td>\n",
       "      <td>10</td>\n",
       "      <td>5</td>\n",
       "      <td>0</td>\n",
       "      <td>1</td>\n",
       "      <td>0</td>\n",
       "      <td>1</td>\n",
       "      <td>0</td>\n",
       "      <td>0</td>\n",
       "      <td>1</td>\n",
       "    </tr>\n",
       "  </tbody>\n",
       "</table>\n",
       "</div>"
      ],
      "text/plain": [
       "                            offerid  difficulty  duration  reward  bogo  \\\n",
       "0  ae264e3637204a6fb9bb56bc8210ddfd          10         7      10     1   \n",
       "1  4d5c57ea9a6940dd891ad53e9dbe8da0          10         5      10     1   \n",
       "2  3f207df678b143eea3cee63160fa8bed           0         4       0     0   \n",
       "3  9b98b8c7a33c4b65b9aebfe6a799e6d9           5         7       5     1   \n",
       "4  0b1e1539f2cc45b7b9fa7c272da2e1d7          20        10       5     0   \n",
       "\n",
       "   discount  informational  email  mobile  social  web  \n",
       "0         0              0      1       1       1    0  \n",
       "1         0              0      1       1       1    1  \n",
       "2         0              1      1       1       0    1  \n",
       "3         0              0      1       1       0    1  \n",
       "4         1              0      1       0       0    1  "
      ]
     },
     "execution_count": 269,
     "metadata": {},
     "output_type": "execute_result"
    }
   ],
   "source": [
    "portfolio.head()"
   ]
  },
  {
   "cell_type": "code",
   "execution_count": 270,
   "metadata": {},
   "outputs": [],
   "source": [
    "# cleaning and processing profile data \n",
    "\n",
    "#defining two functions to transform the joining date and age into different groups\n",
    "\n",
    "def define_membership(item):\n",
    "    \"\"\"\n",
    "    :param item: each element of the column of the dataframe\n",
    "    :return: transformed membership: recent/established/old\n",
    "    \"\"\"\n",
    "    date = datetime.strptime(str(item), '%Y%m%d')\n",
    "    if date.year >= 2016:\n",
    "        return \"recent_customers\"\n",
    "    elif date.year > 2014:\n",
    "        return \"established_customers\"\n",
    "    else:\n",
    "        return \"old_customers\"\n",
    "    \n",
    "def define_age_group(age):\n",
    "    \"\"\"\n",
    "    :param item: each element of the column of the dataframe\n",
    "    :return: transformed age group: old/matured/millenial/teen\n",
    "    \"\"\"\n",
    "    if age>70:\n",
    "        return \"old_age\"\n",
    "    elif age>30:\n",
    "        return \"matured_age\"\n",
    "    elif age>20:\n",
    "        return \"millenial_age\"\n",
    "    else:\n",
    "        return \"teen_age\"\n",
    "    \n",
    "# first we will clear any rows that have missing values of income and gender    \n",
    "profile = profile[profile['income'].notnull()]\n",
    "profile = profile[profile['gender'] != 'O']\n",
    "# the first element having income and gender has gender 'F', in the processed profile data, we will see that the first binary value of gender is 0 => 0 denotes female and 1 denotes male\n",
    "\n",
    "profile = profile.reset_index(drop=True)\n",
    "\n",
    "#binarising the gender values\n",
    "binariser = LabelBinarizer()\n",
    "profile['gender'] = binariser.fit_transform(profile['gender'])\n",
    "\n",
    "#transforming the joining date column\n",
    "profile['became_member_on'] = profile['became_member_on'].apply(define_membership)\n",
    "membership_data = pd.get_dummies(profile['became_member_on'])\n",
    "\n",
    "#transforming the age column\n",
    "profile['age'] = profile['age'].apply(define_age_group)\n",
    "age_desc =  pd.get_dummies(profile['age'])\n",
    "\n",
    "# concatenating generated columns\n",
    "profile = pd.concat([profile, membership_data, age_desc], axis=1)\n",
    "profile['customerid']=profile['id']\n",
    "\n",
    "#dropping unnecessary columns\n",
    "profile = profile.drop(columns=['became_member_on', 'age'])\n",
    "columns_list = ['customerid','gender', 'income']\n",
    "columns_list.extend(membership_data.columns.values)\n",
    "columns_list.extend(age_desc.columns.values)\n",
    "profile = profile[columns_list]"
   ]
  },
  {
   "cell_type": "code",
   "execution_count": 271,
   "metadata": {},
   "outputs": [
    {
     "data": {
      "text/html": [
       "<div>\n",
       "<style scoped>\n",
       "    .dataframe tbody tr th:only-of-type {\n",
       "        vertical-align: middle;\n",
       "    }\n",
       "\n",
       "    .dataframe tbody tr th {\n",
       "        vertical-align: top;\n",
       "    }\n",
       "\n",
       "    .dataframe thead th {\n",
       "        text-align: right;\n",
       "    }\n",
       "</style>\n",
       "<table border=\"1\" class=\"dataframe\">\n",
       "  <thead>\n",
       "    <tr style=\"text-align: right;\">\n",
       "      <th></th>\n",
       "      <th>customerid</th>\n",
       "      <th>gender</th>\n",
       "      <th>income</th>\n",
       "      <th>established_customers</th>\n",
       "      <th>old_customers</th>\n",
       "      <th>recent_customers</th>\n",
       "      <th>matured_age</th>\n",
       "      <th>millenial_age</th>\n",
       "      <th>old_age</th>\n",
       "      <th>teen_age</th>\n",
       "    </tr>\n",
       "  </thead>\n",
       "  <tbody>\n",
       "    <tr>\n",
       "      <th>0</th>\n",
       "      <td>0610b486422d4921ae7d2bf64640c50b</td>\n",
       "      <td>0</td>\n",
       "      <td>112000.0</td>\n",
       "      <td>0</td>\n",
       "      <td>0</td>\n",
       "      <td>1</td>\n",
       "      <td>1</td>\n",
       "      <td>0</td>\n",
       "      <td>0</td>\n",
       "      <td>0</td>\n",
       "    </tr>\n",
       "    <tr>\n",
       "      <th>1</th>\n",
       "      <td>78afa995795e4d85b5d9ceeca43f5fef</td>\n",
       "      <td>0</td>\n",
       "      <td>100000.0</td>\n",
       "      <td>0</td>\n",
       "      <td>0</td>\n",
       "      <td>1</td>\n",
       "      <td>0</td>\n",
       "      <td>0</td>\n",
       "      <td>1</td>\n",
       "      <td>0</td>\n",
       "    </tr>\n",
       "    <tr>\n",
       "      <th>2</th>\n",
       "      <td>e2127556f4f64592b11af22de27a7932</td>\n",
       "      <td>1</td>\n",
       "      <td>70000.0</td>\n",
       "      <td>0</td>\n",
       "      <td>0</td>\n",
       "      <td>1</td>\n",
       "      <td>1</td>\n",
       "      <td>0</td>\n",
       "      <td>0</td>\n",
       "      <td>0</td>\n",
       "    </tr>\n",
       "    <tr>\n",
       "      <th>3</th>\n",
       "      <td>389bc3fa690240e798340f5a15918d5c</td>\n",
       "      <td>1</td>\n",
       "      <td>53000.0</td>\n",
       "      <td>0</td>\n",
       "      <td>0</td>\n",
       "      <td>1</td>\n",
       "      <td>1</td>\n",
       "      <td>0</td>\n",
       "      <td>0</td>\n",
       "      <td>0</td>\n",
       "    </tr>\n",
       "    <tr>\n",
       "      <th>4</th>\n",
       "      <td>2eeac8d8feae4a8cad5a6af0499a211d</td>\n",
       "      <td>1</td>\n",
       "      <td>51000.0</td>\n",
       "      <td>0</td>\n",
       "      <td>0</td>\n",
       "      <td>1</td>\n",
       "      <td>1</td>\n",
       "      <td>0</td>\n",
       "      <td>0</td>\n",
       "      <td>0</td>\n",
       "    </tr>\n",
       "  </tbody>\n",
       "</table>\n",
       "</div>"
      ],
      "text/plain": [
       "                         customerid  gender    income  established_customers  \\\n",
       "0  0610b486422d4921ae7d2bf64640c50b       0  112000.0                      0   \n",
       "1  78afa995795e4d85b5d9ceeca43f5fef       0  100000.0                      0   \n",
       "2  e2127556f4f64592b11af22de27a7932       1   70000.0                      0   \n",
       "3  389bc3fa690240e798340f5a15918d5c       1   53000.0                      0   \n",
       "4  2eeac8d8feae4a8cad5a6af0499a211d       1   51000.0                      0   \n",
       "\n",
       "   old_customers  recent_customers  matured_age  millenial_age  old_age  \\\n",
       "0              0                 1            1              0        0   \n",
       "1              0                 1            0              0        1   \n",
       "2              0                 1            1              0        0   \n",
       "3              0                 1            1              0        0   \n",
       "4              0                 1            1              0        0   \n",
       "\n",
       "   teen_age  \n",
       "0         0  \n",
       "1         0  \n",
       "2         0  \n",
       "3         0  \n",
       "4         0  "
      ]
     },
     "execution_count": 271,
     "metadata": {},
     "output_type": "execute_result"
    }
   ],
   "source": [
    "profile.head()"
   ]
  },
  {
   "cell_type": "code",
   "execution_count": 272,
   "metadata": {},
   "outputs": [],
   "source": [
    "# cleaning and processing transcript data\n",
    "\n",
    "def clean_value_col(item):\n",
    "    \"\"\"\n",
    "    :param item: each element of the column of the dataframe\n",
    "    :return: transformed to have offer ids\n",
    "    \"\"\"\n",
    "    try:\n",
    "        splitted = str(item).split(':')\n",
    "        if 'offer' in str(splitted[0]):\n",
    "            string_with_id = str(splitted[1])\n",
    "            if \"}\" in string_with_id:\n",
    "                return string_with_id[2:-2]\n",
    "            else:\n",
    "                return (string_with_id.split(','))[0][2:-1]              \n",
    "    except:\n",
    "        return 0\n",
    "known_customers = transcript['person'].isin(profile['customerid'])\n",
    "transcript['customerid'] = transcript['person']\n",
    "transcript = transcript[known_customers]\n",
    "value = transcript['value'].apply(clean_value_col)\n",
    "transcript['value']=value\n",
    "known_offers = transcript['value'].isin(portfolio['offerid'])\n",
    "transcript = transcript[known_offers]\n",
    "offer_data = transcript['person'].isin(profile['customerid'])\n",
    "transcript['offerid']=transcript['value']\n",
    "transcript=transcript.drop(columns=['person','time','value'])"
   ]
  },
  {
   "cell_type": "code",
   "execution_count": 273,
   "metadata": {},
   "outputs": [
    {
     "data": {
      "text/html": [
       "<div>\n",
       "<style scoped>\n",
       "    .dataframe tbody tr th:only-of-type {\n",
       "        vertical-align: middle;\n",
       "    }\n",
       "\n",
       "    .dataframe tbody tr th {\n",
       "        vertical-align: top;\n",
       "    }\n",
       "\n",
       "    .dataframe thead th {\n",
       "        text-align: right;\n",
       "    }\n",
       "</style>\n",
       "<table border=\"1\" class=\"dataframe\">\n",
       "  <thead>\n",
       "    <tr style=\"text-align: right;\">\n",
       "      <th></th>\n",
       "      <th>event</th>\n",
       "      <th>customerid</th>\n",
       "      <th>offerid</th>\n",
       "    </tr>\n",
       "  </thead>\n",
       "  <tbody>\n",
       "    <tr>\n",
       "      <th>0</th>\n",
       "      <td>offer received</td>\n",
       "      <td>78afa995795e4d85b5d9ceeca43f5fef</td>\n",
       "      <td>9b98b8c7a33c4b65b9aebfe6a799e6d9</td>\n",
       "    </tr>\n",
       "    <tr>\n",
       "      <th>2</th>\n",
       "      <td>offer received</td>\n",
       "      <td>e2127556f4f64592b11af22de27a7932</td>\n",
       "      <td>2906b810c7d4411798c6938adc9daaa5</td>\n",
       "    </tr>\n",
       "    <tr>\n",
       "      <th>5</th>\n",
       "      <td>offer received</td>\n",
       "      <td>389bc3fa690240e798340f5a15918d5c</td>\n",
       "      <td>f19421c1d4aa40978ebb69ca19b0e20d</td>\n",
       "    </tr>\n",
       "    <tr>\n",
       "      <th>7</th>\n",
       "      <td>offer received</td>\n",
       "      <td>2eeac8d8feae4a8cad5a6af0499a211d</td>\n",
       "      <td>3f207df678b143eea3cee63160fa8bed</td>\n",
       "    </tr>\n",
       "    <tr>\n",
       "      <th>8</th>\n",
       "      <td>offer received</td>\n",
       "      <td>aa4862eba776480b8bb9c68455b8c2e1</td>\n",
       "      <td>0b1e1539f2cc45b7b9fa7c272da2e1d7</td>\n",
       "    </tr>\n",
       "  </tbody>\n",
       "</table>\n",
       "</div>"
      ],
      "text/plain": [
       "            event                        customerid  \\\n",
       "0  offer received  78afa995795e4d85b5d9ceeca43f5fef   \n",
       "2  offer received  e2127556f4f64592b11af22de27a7932   \n",
       "5  offer received  389bc3fa690240e798340f5a15918d5c   \n",
       "7  offer received  2eeac8d8feae4a8cad5a6af0499a211d   \n",
       "8  offer received  aa4862eba776480b8bb9c68455b8c2e1   \n",
       "\n",
       "                            offerid  \n",
       "0  9b98b8c7a33c4b65b9aebfe6a799e6d9  \n",
       "2  2906b810c7d4411798c6938adc9daaa5  \n",
       "5  f19421c1d4aa40978ebb69ca19b0e20d  \n",
       "7  3f207df678b143eea3cee63160fa8bed  \n",
       "8  0b1e1539f2cc45b7b9fa7c272da2e1d7  "
      ]
     },
     "execution_count": 273,
     "metadata": {},
     "output_type": "execute_result"
    }
   ],
   "source": [
    "transcript.head()"
   ]
  },
  {
   "cell_type": "markdown",
   "metadata": {},
   "source": [
    "### Once the cleaning and basic pre-processing is done, we can join to create a complete dataframe"
   ]
  },
  {
   "cell_type": "code",
   "execution_count": 274,
   "metadata": {},
   "outputs": [],
   "source": [
    "combine_profile = transcript.join(profile.set_index(['customerid']), on=['customerid'])\n",
    "combine_all = combine_profile.join(portfolio.set_index(['offerid']), on=['offerid'])"
   ]
  },
  {
   "cell_type": "markdown",
   "metadata": {},
   "source": [
    "### The combine_all contains all the data, we can create two dataframes out of it:\n",
    "#### 1. The first dataframe will show the offers that have been received and the offers that have been viewed after being received\n",
    "#### 2. The second dataframe will show the offers that have been viewed and the offers that have been completed after being viewed"
   ]
  },
  {
   "cell_type": "code",
   "execution_count": 177,
   "metadata": {},
   "outputs": [],
   "source": [
    "#start preparing two data frames\n",
    "\n",
    "# offer viewed vs offer received\n",
    "# we need to have a unique id: customer+offer id to be able to properly create dataframes\n",
    "combine_all['id'] = combine_all['customerid']+combine_all['offerid']\n",
    "\n",
    "viewed_offers = combine_all[combine_all['event']=='offer viewed']\n",
    "received_offers = combine_all[combine_all['event']=='offer received']\n",
    "completed_offers = combine_all[combine_all['event']=='offer completed']\n",
    "\n",
    "only_received = received_offers[~received_offers['id'].isin(viewed_offers['id'])]\n",
    "only_viewed = viewed_offers[~viewed_offers['id'].isin(completed_offers['id'])]\n",
    "viewed_completed = completed_offers[completed_offers['id'].isin(viewed_offers['id'])]"
   ]
  },
  {
   "cell_type": "markdown",
   "metadata": {},
   "source": [
    "# Part 3- Exploring and analysing"
   ]
  },
  {
   "cell_type": "markdown",
   "metadata": {},
   "source": [
    "So the **viewed_received_df** contains offers that are only received and not viewed and the offers that are viewed after being received, and\n",
    "\n",
    "the **completed_viewed_df** contains offers that are only viewed and not completed and the offers that are completed after being viewed, and"
   ]
  },
  {
   "cell_type": "code",
   "execution_count": 275,
   "metadata": {},
   "outputs": [],
   "source": [
    "viewed_received_df =  viewed_offers.append(only_received, ignore_index=True)\n",
    "completed_viewed_df = viewed_completed.append(only_viewed, ignore_index=True)"
   ]
  },
  {
   "cell_type": "code",
   "execution_count": 276,
   "metadata": {},
   "outputs": [
    {
     "data": {
      "text/html": [
       "<div>\n",
       "<style scoped>\n",
       "    .dataframe tbody tr th:only-of-type {\n",
       "        vertical-align: middle;\n",
       "    }\n",
       "\n",
       "    .dataframe tbody tr th {\n",
       "        vertical-align: top;\n",
       "    }\n",
       "\n",
       "    .dataframe thead th {\n",
       "        text-align: right;\n",
       "    }\n",
       "</style>\n",
       "<table border=\"1\" class=\"dataframe\">\n",
       "  <thead>\n",
       "    <tr style=\"text-align: right;\">\n",
       "      <th></th>\n",
       "      <th>event</th>\n",
       "      <th>customerid</th>\n",
       "      <th>offerid</th>\n",
       "      <th>gender</th>\n",
       "      <th>income</th>\n",
       "      <th>established_customers</th>\n",
       "      <th>old_customers</th>\n",
       "      <th>recent_customers</th>\n",
       "      <th>matured_age</th>\n",
       "      <th>millenial_age</th>\n",
       "      <th>...</th>\n",
       "      <th>duration</th>\n",
       "      <th>reward</th>\n",
       "      <th>bogo</th>\n",
       "      <th>discount</th>\n",
       "      <th>informational</th>\n",
       "      <th>email</th>\n",
       "      <th>mobile</th>\n",
       "      <th>social</th>\n",
       "      <th>web</th>\n",
       "      <th>id</th>\n",
       "    </tr>\n",
       "  </thead>\n",
       "  <tbody>\n",
       "    <tr>\n",
       "      <th>0</th>\n",
       "      <td>offer viewed</td>\n",
       "      <td>389bc3fa690240e798340f5a15918d5c</td>\n",
       "      <td>f19421c1d4aa40978ebb69ca19b0e20d</td>\n",
       "      <td>1</td>\n",
       "      <td>53000.0</td>\n",
       "      <td>0</td>\n",
       "      <td>0</td>\n",
       "      <td>1</td>\n",
       "      <td>1</td>\n",
       "      <td>0</td>\n",
       "      <td>...</td>\n",
       "      <td>5</td>\n",
       "      <td>5</td>\n",
       "      <td>1</td>\n",
       "      <td>0</td>\n",
       "      <td>0</td>\n",
       "      <td>1</td>\n",
       "      <td>1</td>\n",
       "      <td>1</td>\n",
       "      <td>1</td>\n",
       "      <td>389bc3fa690240e798340f5a15918d5cf19421c1d4aa40...</td>\n",
       "    </tr>\n",
       "    <tr>\n",
       "      <th>1</th>\n",
       "      <td>offer viewed</td>\n",
       "      <td>102e9454054946fda62242d2e176fdce</td>\n",
       "      <td>4d5c57ea9a6940dd891ad53e9dbe8da0</td>\n",
       "      <td>0</td>\n",
       "      <td>57000.0</td>\n",
       "      <td>0</td>\n",
       "      <td>0</td>\n",
       "      <td>1</td>\n",
       "      <td>1</td>\n",
       "      <td>0</td>\n",
       "      <td>...</td>\n",
       "      <td>5</td>\n",
       "      <td>10</td>\n",
       "      <td>1</td>\n",
       "      <td>0</td>\n",
       "      <td>0</td>\n",
       "      <td>1</td>\n",
       "      <td>1</td>\n",
       "      <td>1</td>\n",
       "      <td>1</td>\n",
       "      <td>102e9454054946fda62242d2e176fdce4d5c57ea9a6940...</td>\n",
       "    </tr>\n",
       "    <tr>\n",
       "      <th>2</th>\n",
       "      <td>offer viewed</td>\n",
       "      <td>02c083884c7d45b39cc68e1314fec56c</td>\n",
       "      <td>ae264e3637204a6fb9bb56bc8210ddfd</td>\n",
       "      <td>0</td>\n",
       "      <td>30000.0</td>\n",
       "      <td>0</td>\n",
       "      <td>0</td>\n",
       "      <td>1</td>\n",
       "      <td>0</td>\n",
       "      <td>0</td>\n",
       "      <td>...</td>\n",
       "      <td>7</td>\n",
       "      <td>10</td>\n",
       "      <td>1</td>\n",
       "      <td>0</td>\n",
       "      <td>0</td>\n",
       "      <td>1</td>\n",
       "      <td>1</td>\n",
       "      <td>1</td>\n",
       "      <td>0</td>\n",
       "      <td>02c083884c7d45b39cc68e1314fec56cae264e3637204a...</td>\n",
       "    </tr>\n",
       "    <tr>\n",
       "      <th>3</th>\n",
       "      <td>offer viewed</td>\n",
       "      <td>be8a5d1981a2458d90b255ddc7e0d174</td>\n",
       "      <td>5a8bc65990b245e5a138643cd4eb9837</td>\n",
       "      <td>1</td>\n",
       "      <td>51000.0</td>\n",
       "      <td>0</td>\n",
       "      <td>1</td>\n",
       "      <td>0</td>\n",
       "      <td>1</td>\n",
       "      <td>0</td>\n",
       "      <td>...</td>\n",
       "      <td>3</td>\n",
       "      <td>0</td>\n",
       "      <td>0</td>\n",
       "      <td>0</td>\n",
       "      <td>1</td>\n",
       "      <td>1</td>\n",
       "      <td>1</td>\n",
       "      <td>1</td>\n",
       "      <td>0</td>\n",
       "      <td>be8a5d1981a2458d90b255ddc7e0d1745a8bc65990b245...</td>\n",
       "    </tr>\n",
       "    <tr>\n",
       "      <th>4</th>\n",
       "      <td>offer viewed</td>\n",
       "      <td>9fa9ae8f57894cc9a3b8a9bbe0fc1b2f</td>\n",
       "      <td>2906b810c7d4411798c6938adc9daaa5</td>\n",
       "      <td>1</td>\n",
       "      <td>96000.0</td>\n",
       "      <td>0</td>\n",
       "      <td>0</td>\n",
       "      <td>1</td>\n",
       "      <td>1</td>\n",
       "      <td>0</td>\n",
       "      <td>...</td>\n",
       "      <td>7</td>\n",
       "      <td>2</td>\n",
       "      <td>0</td>\n",
       "      <td>1</td>\n",
       "      <td>0</td>\n",
       "      <td>1</td>\n",
       "      <td>1</td>\n",
       "      <td>0</td>\n",
       "      <td>1</td>\n",
       "      <td>9fa9ae8f57894cc9a3b8a9bbe0fc1b2f2906b810c7d441...</td>\n",
       "    </tr>\n",
       "  </tbody>\n",
       "</table>\n",
       "<p>5 rows × 23 columns</p>\n",
       "</div>"
      ],
      "text/plain": [
       "          event                        customerid  \\\n",
       "0  offer viewed  389bc3fa690240e798340f5a15918d5c   \n",
       "1  offer viewed  102e9454054946fda62242d2e176fdce   \n",
       "2  offer viewed  02c083884c7d45b39cc68e1314fec56c   \n",
       "3  offer viewed  be8a5d1981a2458d90b255ddc7e0d174   \n",
       "4  offer viewed  9fa9ae8f57894cc9a3b8a9bbe0fc1b2f   \n",
       "\n",
       "                            offerid  gender   income  established_customers  \\\n",
       "0  f19421c1d4aa40978ebb69ca19b0e20d       1  53000.0                      0   \n",
       "1  4d5c57ea9a6940dd891ad53e9dbe8da0       0  57000.0                      0   \n",
       "2  ae264e3637204a6fb9bb56bc8210ddfd       0  30000.0                      0   \n",
       "3  5a8bc65990b245e5a138643cd4eb9837       1  51000.0                      0   \n",
       "4  2906b810c7d4411798c6938adc9daaa5       1  96000.0                      0   \n",
       "\n",
       "   old_customers  recent_customers  matured_age  millenial_age  ...  duration  \\\n",
       "0              0                 1            1              0  ...         5   \n",
       "1              0                 1            1              0  ...         5   \n",
       "2              0                 1            0              0  ...         7   \n",
       "3              1                 0            1              0  ...         3   \n",
       "4              0                 1            1              0  ...         7   \n",
       "\n",
       "   reward  bogo  discount  informational  email  mobile  social  web  \\\n",
       "0       5     1         0              0      1       1       1    1   \n",
       "1      10     1         0              0      1       1       1    1   \n",
       "2      10     1         0              0      1       1       1    0   \n",
       "3       0     0         0              1      1       1       1    0   \n",
       "4       2     0         1              0      1       1       0    1   \n",
       "\n",
       "                                                  id  \n",
       "0  389bc3fa690240e798340f5a15918d5cf19421c1d4aa40...  \n",
       "1  102e9454054946fda62242d2e176fdce4d5c57ea9a6940...  \n",
       "2  02c083884c7d45b39cc68e1314fec56cae264e3637204a...  \n",
       "3  be8a5d1981a2458d90b255ddc7e0d1745a8bc65990b245...  \n",
       "4  9fa9ae8f57894cc9a3b8a9bbe0fc1b2f2906b810c7d441...  \n",
       "\n",
       "[5 rows x 23 columns]"
      ]
     },
     "execution_count": 276,
     "metadata": {},
     "output_type": "execute_result"
    }
   ],
   "source": [
    "viewed_received_df.head()"
   ]
  },
  {
   "cell_type": "code",
   "execution_count": 277,
   "metadata": {},
   "outputs": [
    {
     "data": {
      "text/html": [
       "<div>\n",
       "<style scoped>\n",
       "    .dataframe tbody tr th:only-of-type {\n",
       "        vertical-align: middle;\n",
       "    }\n",
       "\n",
       "    .dataframe tbody tr th {\n",
       "        vertical-align: top;\n",
       "    }\n",
       "\n",
       "    .dataframe thead th {\n",
       "        text-align: right;\n",
       "    }\n",
       "</style>\n",
       "<table border=\"1\" class=\"dataframe\">\n",
       "  <thead>\n",
       "    <tr style=\"text-align: right;\">\n",
       "      <th></th>\n",
       "      <th>event</th>\n",
       "      <th>customerid</th>\n",
       "      <th>offerid</th>\n",
       "      <th>gender</th>\n",
       "      <th>income</th>\n",
       "      <th>established_customers</th>\n",
       "      <th>old_customers</th>\n",
       "      <th>recent_customers</th>\n",
       "      <th>matured_age</th>\n",
       "      <th>millenial_age</th>\n",
       "      <th>...</th>\n",
       "      <th>duration</th>\n",
       "      <th>reward</th>\n",
       "      <th>bogo</th>\n",
       "      <th>discount</th>\n",
       "      <th>informational</th>\n",
       "      <th>email</th>\n",
       "      <th>mobile</th>\n",
       "      <th>social</th>\n",
       "      <th>web</th>\n",
       "      <th>id</th>\n",
       "    </tr>\n",
       "  </thead>\n",
       "  <tbody>\n",
       "    <tr>\n",
       "      <th>0</th>\n",
       "      <td>offer completed</td>\n",
       "      <td>9fa9ae8f57894cc9a3b8a9bbe0fc1b2f</td>\n",
       "      <td>2906b810c7d4411798c6938adc9daaa5</td>\n",
       "      <td>1</td>\n",
       "      <td>96000.0</td>\n",
       "      <td>0</td>\n",
       "      <td>0</td>\n",
       "      <td>1</td>\n",
       "      <td>1</td>\n",
       "      <td>0</td>\n",
       "      <td>...</td>\n",
       "      <td>7</td>\n",
       "      <td>2</td>\n",
       "      <td>0</td>\n",
       "      <td>1</td>\n",
       "      <td>0</td>\n",
       "      <td>1</td>\n",
       "      <td>1</td>\n",
       "      <td>0</td>\n",
       "      <td>1</td>\n",
       "      <td>9fa9ae8f57894cc9a3b8a9bbe0fc1b2f2906b810c7d441...</td>\n",
       "    </tr>\n",
       "    <tr>\n",
       "      <th>1</th>\n",
       "      <td>offer completed</td>\n",
       "      <td>fe97aa22dd3e48c8b143116a8403dd52</td>\n",
       "      <td>fafdcd668e3743c1bb461111dcafc2a4</td>\n",
       "      <td>0</td>\n",
       "      <td>67000.0</td>\n",
       "      <td>0</td>\n",
       "      <td>0</td>\n",
       "      <td>1</td>\n",
       "      <td>1</td>\n",
       "      <td>0</td>\n",
       "      <td>...</td>\n",
       "      <td>10</td>\n",
       "      <td>2</td>\n",
       "      <td>0</td>\n",
       "      <td>1</td>\n",
       "      <td>0</td>\n",
       "      <td>1</td>\n",
       "      <td>1</td>\n",
       "      <td>1</td>\n",
       "      <td>1</td>\n",
       "      <td>fe97aa22dd3e48c8b143116a8403dd52fafdcd668e3743...</td>\n",
       "    </tr>\n",
       "    <tr>\n",
       "      <th>2</th>\n",
       "      <td>offer completed</td>\n",
       "      <td>629fc02d56414d91bca360decdfa9288</td>\n",
       "      <td>9b98b8c7a33c4b65b9aebfe6a799e6d9</td>\n",
       "      <td>1</td>\n",
       "      <td>72000.0</td>\n",
       "      <td>0</td>\n",
       "      <td>0</td>\n",
       "      <td>1</td>\n",
       "      <td>1</td>\n",
       "      <td>0</td>\n",
       "      <td>...</td>\n",
       "      <td>7</td>\n",
       "      <td>5</td>\n",
       "      <td>1</td>\n",
       "      <td>0</td>\n",
       "      <td>0</td>\n",
       "      <td>1</td>\n",
       "      <td>1</td>\n",
       "      <td>0</td>\n",
       "      <td>1</td>\n",
       "      <td>629fc02d56414d91bca360decdfa92889b98b8c7a33c4b...</td>\n",
       "    </tr>\n",
       "    <tr>\n",
       "      <th>3</th>\n",
       "      <td>offer completed</td>\n",
       "      <td>676506bad68e4161b9bbaffeb039626b</td>\n",
       "      <td>ae264e3637204a6fb9bb56bc8210ddfd</td>\n",
       "      <td>1</td>\n",
       "      <td>92000.0</td>\n",
       "      <td>0</td>\n",
       "      <td>0</td>\n",
       "      <td>1</td>\n",
       "      <td>1</td>\n",
       "      <td>0</td>\n",
       "      <td>...</td>\n",
       "      <td>7</td>\n",
       "      <td>10</td>\n",
       "      <td>1</td>\n",
       "      <td>0</td>\n",
       "      <td>0</td>\n",
       "      <td>1</td>\n",
       "      <td>1</td>\n",
       "      <td>1</td>\n",
       "      <td>0</td>\n",
       "      <td>676506bad68e4161b9bbaffeb039626bae264e3637204a...</td>\n",
       "    </tr>\n",
       "    <tr>\n",
       "      <th>4</th>\n",
       "      <td>offer completed</td>\n",
       "      <td>8f7dd3b2afe14c078eb4f6e6fe4ba97d</td>\n",
       "      <td>4d5c57ea9a6940dd891ad53e9dbe8da0</td>\n",
       "      <td>1</td>\n",
       "      <td>62000.0</td>\n",
       "      <td>1</td>\n",
       "      <td>0</td>\n",
       "      <td>0</td>\n",
       "      <td>1</td>\n",
       "      <td>0</td>\n",
       "      <td>...</td>\n",
       "      <td>5</td>\n",
       "      <td>10</td>\n",
       "      <td>1</td>\n",
       "      <td>0</td>\n",
       "      <td>0</td>\n",
       "      <td>1</td>\n",
       "      <td>1</td>\n",
       "      <td>1</td>\n",
       "      <td>1</td>\n",
       "      <td>8f7dd3b2afe14c078eb4f6e6fe4ba97d4d5c57ea9a6940...</td>\n",
       "    </tr>\n",
       "  </tbody>\n",
       "</table>\n",
       "<p>5 rows × 23 columns</p>\n",
       "</div>"
      ],
      "text/plain": [
       "             event                        customerid  \\\n",
       "0  offer completed  9fa9ae8f57894cc9a3b8a9bbe0fc1b2f   \n",
       "1  offer completed  fe97aa22dd3e48c8b143116a8403dd52   \n",
       "2  offer completed  629fc02d56414d91bca360decdfa9288   \n",
       "3  offer completed  676506bad68e4161b9bbaffeb039626b   \n",
       "4  offer completed  8f7dd3b2afe14c078eb4f6e6fe4ba97d   \n",
       "\n",
       "                            offerid  gender   income  established_customers  \\\n",
       "0  2906b810c7d4411798c6938adc9daaa5       1  96000.0                      0   \n",
       "1  fafdcd668e3743c1bb461111dcafc2a4       0  67000.0                      0   \n",
       "2  9b98b8c7a33c4b65b9aebfe6a799e6d9       1  72000.0                      0   \n",
       "3  ae264e3637204a6fb9bb56bc8210ddfd       1  92000.0                      0   \n",
       "4  4d5c57ea9a6940dd891ad53e9dbe8da0       1  62000.0                      1   \n",
       "\n",
       "   old_customers  recent_customers  matured_age  millenial_age  ...  duration  \\\n",
       "0              0                 1            1              0  ...         7   \n",
       "1              0                 1            1              0  ...        10   \n",
       "2              0                 1            1              0  ...         7   \n",
       "3              0                 1            1              0  ...         7   \n",
       "4              0                 0            1              0  ...         5   \n",
       "\n",
       "   reward  bogo  discount  informational  email  mobile  social  web  \\\n",
       "0       2     0         1              0      1       1       0    1   \n",
       "1       2     0         1              0      1       1       1    1   \n",
       "2       5     1         0              0      1       1       0    1   \n",
       "3      10     1         0              0      1       1       1    0   \n",
       "4      10     1         0              0      1       1       1    1   \n",
       "\n",
       "                                                  id  \n",
       "0  9fa9ae8f57894cc9a3b8a9bbe0fc1b2f2906b810c7d441...  \n",
       "1  fe97aa22dd3e48c8b143116a8403dd52fafdcd668e3743...  \n",
       "2  629fc02d56414d91bca360decdfa92889b98b8c7a33c4b...  \n",
       "3  676506bad68e4161b9bbaffeb039626bae264e3637204a...  \n",
       "4  8f7dd3b2afe14c078eb4f6e6fe4ba97d4d5c57ea9a6940...  \n",
       "\n",
       "[5 rows x 23 columns]"
      ]
     },
     "execution_count": 277,
     "metadata": {},
     "output_type": "execute_result"
    }
   ],
   "source": [
    "completed_viewed_df.head()"
   ]
  },
  {
   "cell_type": "markdown",
   "metadata": {},
   "source": [
    "we will run a labelbinariser to binarise the viewed-received events and viewed-completed events in the respective dataframe"
   ]
  },
  {
   "cell_type": "code",
   "execution_count": 279,
   "metadata": {},
   "outputs": [],
   "source": [
    "binariser = LabelBinarizer()\n",
    "viewed_received_df['event'] = binariser.fit_transform(viewed_received_df['event'])\n",
    "# 1 is viewed, 0 is received only"
   ]
  },
  {
   "cell_type": "code",
   "execution_count": 280,
   "metadata": {},
   "outputs": [],
   "source": [
    "binariser = LabelBinarizer()\n",
    "completed_viewed_df['event'] = binariser.fit_transform(completed_viewed_df['event'])\n",
    "# 1 is completed, 0 is viewed only"
   ]
  },
  {
   "cell_type": "code",
   "execution_count": 285,
   "metadata": {},
   "outputs": [
    {
     "name": "stdout",
     "output_type": "stream",
     "text": [
      "event  gender\n",
      "0      0          5716\n",
      "       1          8563\n",
      "1      0         20786\n",
      "       1         28301\n",
      "dtype: int64\n"
     ]
    },
    {
     "data": {
      "text/plain": [
       "Text(0, 0.5, 'Number')"
      ]
     },
     "execution_count": 285,
     "metadata": {},
     "output_type": "execute_result"
    },
    {
     "data": {
      "image/png": "[encoded data removed]",
      "text/plain": [
       "<Figure size 432x288 with 1 Axes>"
      ]
     },
     "metadata": {},
     "output_type": "display_data"
    }
   ],
   "source": [
    "# Gender impact on viewing the offers\n",
    "from matplotlib import pyplot\n",
    "gender_count = viewed_received_df.groupby([\"event\", \"gender\"]).size()\n",
    "print(gender_count)\n",
    "male_stats = [gender_count[0][1],gender_count[1][1]]\n",
    "female_stats = [gender_count[0][0],gender_count[1][0]]\n",
    "events = [\"Received\",\"Received & Viewed\"]\n",
    "pyplot.bar(events, female_stats, bottom=None, color='pink', label='F')\n",
    "pyplot.bar(events, male_stats, bottom=[gender_count[0][0],gender_count[1][0]], color='blue', label='M')\n",
    "pyplot.legend()\n",
    "pyplot.xlabel('Event')\n",
    "pyplot.ylabel('Number')"
   ]
  },
  {
   "cell_type": "markdown",
   "metadata": {},
   "source": [
    "It can be seen that both females and males responds almost equally to an offer received to view it. Males have a slightly more number that can be because of the more male registrations."
   ]
  },
  {
   "cell_type": "code",
   "execution_count": 225,
   "metadata": {},
   "outputs": [
    {
     "data": {
      "text/plain": [
       "Index(['event', 'customerid', 'offerid', 'gender', 'income',\n",
       "       'established_customers', 'old_customers', 'recent_customers',\n",
       "       'matured_age', 'millenial_age', 'old_age', 'teen_age', 'difficulty',\n",
       "       'duration', 'reward', 'bogo', 'discount', 'informational', 'email',\n",
       "       'mobile', 'social', 'web', 'id'],\n",
       "      dtype='object')"
      ]
     },
     "execution_count": 225,
     "metadata": {},
     "output_type": "execute_result"
    }
   ],
   "source": [
    "# for help\n",
    "viewed_received_df.columns"
   ]
  },
  {
   "cell_type": "code",
   "execution_count": 229,
   "metadata": {},
   "outputs": [
    {
     "data": {
      "text/plain": [
       "Text(0, 0.5, 'Number')"
      ]
     },
     "execution_count": 229,
     "metadata": {},
     "output_type": "execute_result"
    },
    {
     "data": {
      "image/png": "[encoded data removed]",
      "text/plain": [
       "<Figure size 432x288 with 1 Axes>"
      ]
     },
     "metadata": {},
     "output_type": "display_data"
    }
   ],
   "source": [
    "# impact of age on viewing the offers\n",
    "matured_age_count = viewed_received_df.groupby([\"event\", \"matured_age\"]).size()\n",
    "millenial_age_count = viewed_received_df.groupby([\"event\", \"millenial_age\"]).size()\n",
    "old_age_count = viewed_received_df.groupby([\"event\", \"old_age\"]).size()\n",
    "teen_age_count = viewed_received_df.groupby([\"event\", \"teen_age\"]).size()\n",
    "\n",
    "# as these are hot encoded vectors, we are only interested in values where the values are '1'\n",
    "matured_age_num = [matured_age_count[0][1], matured_age_count[1][1]]\n",
    "millenial_age_num = [millenial_age_count[0][1], millenial_age_count[1][1]]\n",
    "old_age_num = [old_age_count[0][1], old_age_count[1][1]]\n",
    "teen_age_num = [teen_age_count[0][1], teen_age_count[1][1]]\n",
    "\n",
    "events = [\"Received\",\"Received & Viewed\"]\n",
    "pyplot.bar(events, old_age_num, bottom=matured_age_num, color='grey', label='Old')\n",
    "pyplot.bar(events, matured_age_num, bottom=millenial_age_num, color='blue', label='Matured')\n",
    "pyplot.bar(events, teen_age_num, bottom=None, color='purple', label='Teen')\n",
    "pyplot.bar(events, millenial_age_num, bottom=teen_age_num, color='green', label='Millenial')\n",
    "pyplot.legend()\n",
    "pyplot.xlabel('Event')\n",
    "pyplot.ylabel('Number')"
   ]
  },
  {
   "cell_type": "markdown",
   "metadata": {},
   "source": [
    "It can be clearly seen that the matured population : 30-70 years old constitute the majority of people who receive and view the offers. It will be a better idea to talk about the ratio of received and viewed to received"
   ]
  },
  {
   "cell_type": "code",
   "execution_count": 230,
   "metadata": {},
   "outputs": [
    {
     "data": {
      "text/plain": [
       "Text(0, 0.5, 'Number')"
      ]
     },
     "execution_count": 230,
     "metadata": {},
     "output_type": "execute_result"
    },
    {
     "data": {
      "image/png": "[encoded data removed]",
      "text/plain": [
       "<Figure size 432x288 with 1 Axes>"
      ]
     },
     "metadata": {},
     "output_type": "display_data"
    }
   ],
   "source": [
    "matured_age_count = viewed_received_df.groupby([\"event\", \"matured_age\"]).size()\n",
    "millenial_age_count = viewed_received_df.groupby([\"event\", \"millenial_age\"]).size()\n",
    "old_age_count = viewed_received_df.groupby([\"event\", \"old_age\"]).size()\n",
    "teen_age_count = viewed_received_df.groupby([\"event\", \"teen_age\"]).size()\n",
    "\n",
    "# as these are hot encoded vectors, we are only interested in values where the values are '1'\n",
    "matured_age_num = [matured_age_count[1][1]/matured_age_count[0][1]]\n",
    "millenial_age_num = [ millenial_age_count[1][1]/millenial_age_count[0][1]]\n",
    "old_age_num = [old_age_count[1][1]/old_age_count[0][1]]\n",
    "teen_age_num = [teen_age_count[1][1]/teen_age_count[0][1]]\n",
    "\n",
    "events = [\"Ratio of Received & Viewed : Received\"]\n",
    "pyplot.bar(events, old_age_num, bottom=matured_age_num, color='grey', label='Old')\n",
    "pyplot.bar(events, matured_age_num, bottom=millenial_age_num, color='blue', label='Matured')\n",
    "pyplot.bar(events, teen_age_num, bottom=None, color='purple', label='Teen')\n",
    "pyplot.bar(events, millenial_age_num, bottom=teen_age_num, color='green', label='Millenial')\n",
    "pyplot.legend()\n",
    "pyplot.xlabel('Event')\n",
    "pyplot.ylabel('Number')"
   ]
  },
  {
   "cell_type": "markdown",
   "metadata": {},
   "source": [
    "The figure indicates high interest from millenials and teenagers towards viewing the offers"
   ]
  },
  {
   "cell_type": "code",
   "execution_count": 232,
   "metadata": {},
   "outputs": [
    {
     "data": {
      "text/plain": [
       "Text(0, 0.5, 'Number')"
      ]
     },
     "execution_count": 232,
     "metadata": {},
     "output_type": "execute_result"
    },
    {
     "data": {
      "image/png": "[encoded data removed]",
      "text/plain": [
       "<Figure size 432x288 with 1 Axes>"
      ]
     },
     "metadata": {},
     "output_type": "display_data"
    }
   ],
   "source": [
    "#impact of joining date of customers\n",
    "established_count = viewed_received_df.groupby([\"event\", \"established_customers\"]).size()\n",
    "old_count = viewed_received_df.groupby([\"event\", \"old_customers\"]).size()\n",
    "recent_count = viewed_received_df.groupby([\"event\", \"recent_customers\"]).size()\n",
    "\n",
    "# as these are hot encoded vectors, we are only interested in values where the values are '1'\n",
    "established_num = [established_count[0][1], established_count[1][1]]\n",
    "old_num = [old_count[0][1], old_count[1][1]]\n",
    "recent_num = [recent_count[0][1], recent_count[1][1]]\n",
    "\n",
    "events = [\"Received\", \"Received & Viewed\"]\n",
    "pyplot.bar(events, recent_num, bottom=established_num, color='green', label='Recent')\n",
    "pyplot.bar(events, established_num, bottom=old_num, color='blue', label='Established')\n",
    "pyplot.bar(events, old_num, bottom=None, color='grey', label='Old')\n",
    "pyplot.legend()\n",
    "pyplot.xlabel('Event')\n",
    "pyplot.ylabel('Number')"
   ]
  },
  {
   "cell_type": "markdown",
   "metadata": {},
   "source": [
    "All type of customers can be seen to respond in similar numbers. As the number of recent joinees is higher, so is the offers viewed by them."
   ]
  },
  {
   "cell_type": "code",
   "execution_count": 284,
   "metadata": {},
   "outputs": [
    {
     "data": {
      "text/plain": [
       "Text(0, 0.5, 'Number')"
      ]
     },
     "execution_count": 284,
     "metadata": {},
     "output_type": "execute_result"
    },
    {
     "data": {
      "image/png": "[encoded data removed]",
      "text/plain": [
       "<Figure size 432x288 with 1 Axes>"
      ]
     },
     "metadata": {},
     "output_type": "display_data"
    }
   ],
   "source": [
    "#impact of channel\n",
    "email_count = viewed_received_df.groupby([\"event\", \"email\"]).size()\n",
    "mobile_count = viewed_received_df.groupby([\"event\", \"mobile\"]).size()\n",
    "social_count = viewed_received_df.groupby([\"event\", \"social\"]).size()\n",
    "web_count = viewed_received_df.groupby([\"event\", \"web\"]).size()\n",
    "\n",
    "# as these are hot encoded vectors, we are only interested in values where the values are '1'\n",
    "email_num = [email_count[0][1], email_count[1][1]]\n",
    "mobile_num = [mobile_count[0][1], mobile_count[1][1]]\n",
    "social_num = [social_count[0][1], social_count[1][1]]\n",
    "web_num = [web_count[0][1], web_count[1][1]]\n",
    "\n",
    "events = [\"Received\",\"Received & Viewed\"]\n",
    "pyplot.bar(events, email_num, bottom=mobile_num, color='grey', label='Email')\n",
    "pyplot.bar(events, mobile_num, bottom=social_num, color='blue', label='Mobile')\n",
    "pyplot.bar(events, social_num, bottom=web_num, color='green', label='Social')\n",
    "pyplot.bar(events, web_num, bottom=None, color='purple', label='Web')\n",
    "pyplot.legend()\n",
    "pyplot.xlabel('Event')\n",
    "pyplot.ylabel('Number')"
   ]
  },
  {
   "cell_type": "markdown",
   "metadata": {},
   "source": [
    "Interesting analysis from this plot:\n",
    "1. Email is not as affective as other channels for sending the offers\n",
    "2. Mobile is the channel where almost every offer is viewed\n",
    "3. More Offers can be experimented on social sites more to see the results as social platforms generated good views\n"
   ]
  },
  {
   "cell_type": "code",
   "execution_count": 247,
   "metadata": {},
   "outputs": [
    {
     "data": {
      "text/plain": [
       "Text(0, 0.5, 'Number')"
      ]
     },
     "execution_count": 247,
     "metadata": {},
     "output_type": "execute_result"
    },
    {
     "data": {
      "image/png": "[encoded data removed]",
      "text/plain": [
       "<Figure size 432x288 with 1 Axes>"
      ]
     },
     "metadata": {},
     "output_type": "display_data"
    }
   ],
   "source": [
    "# income analysis\n",
    "average_income_r = viewed_received_df[viewed_received_df['event']==0]['income'].mean()\n",
    "average_income_v = viewed_received_df[viewed_received_df['event']==1]['income'].mean()\n",
    "events = [\"Received\",\"Received & Viewed\"]\n",
    "pyplot.bar(events, [average_income_r,average_income_v], bottom=None, color='purple', label='Income')\n",
    "pyplot.legend()\n",
    "pyplot.xlabel('Event')\n",
    "pyplot.ylabel('Number')"
   ]
  },
  {
   "cell_type": "markdown",
   "metadata": {},
   "source": [
    "The figure indicates that the average income of those who view the offers is very slightly higher than those who don't"
   ]
  },
  {
   "cell_type": "code",
   "execution_count": 239,
   "metadata": {},
   "outputs": [],
   "source": [
    "# Views vs Completed"
   ]
  },
  {
   "cell_type": "markdown",
   "metadata": {},
   "source": [
    "## The second analysis: Viewed vs Completed "
   ]
  },
  {
   "cell_type": "code",
   "execution_count": 286,
   "metadata": {},
   "outputs": [
    {
     "data": {
      "text/plain": [
       "Text(0, 0.5, 'Number')"
      ]
     },
     "execution_count": 286,
     "metadata": {},
     "output_type": "execute_result"
    },
    {
     "data": {
      "image/png": "[encoded data removed]",
      "text/plain": [
       "<Figure size 432x288 with 1 Axes>"
      ]
     },
     "metadata": {},
     "output_type": "display_data"
    }
   ],
   "source": [
    "#gender impact on completion of offer\n",
    "gender_count = completed_viewed_df.groupby([\"event\", \"gender\"]).size()\n",
    "female_stats = [gender_count[0][0],gender_count[1][0]]\n",
    "male_stats = [gender_count[0][1],gender_count[1][1]]\n",
    "events = [\"Viewed\",\"Viewed & Completed\"]\n",
    "pyplot.bar(events,female_stats , bottom=None, color='pink', label='F')\n",
    "pyplot.bar(events, male_stats, bottom=[gender_count[0][0],gender_count[1][0]], color='blue', label='M')\n",
    "pyplot.legend()\n",
    "pyplot.xlabel('Event')\n",
    "pyplot.ylabel('Number')"
   ]
  },
  {
   "cell_type": "markdown",
   "metadata": {},
   "source": [
    "It can be seen that males tend to complete the offer after vieweing more likely than females."
   ]
  },
  {
   "cell_type": "code",
   "execution_count": 243,
   "metadata": {},
   "outputs": [
    {
     "data": {
      "text/plain": [
       "Text(0, 0.5, 'Number')"
      ]
     },
     "execution_count": 243,
     "metadata": {},
     "output_type": "execute_result"
    },
    {
     "data": {
      "image/png": "[encoded data removed]",
      "text/plain": [
       "<Figure size 432x288 with 1 Axes>"
      ]
     },
     "metadata": {},
     "output_type": "display_data"
    }
   ],
   "source": [
    "# impact of age on completing the offers\n",
    "matured_age_count = completed_viewed_df.groupby([\"event\", \"matured_age\"]).size()\n",
    "millenial_age_count = completed_viewed_df.groupby([\"event\", \"millenial_age\"]).size()\n",
    "old_age_count = completed_viewed_df.groupby([\"event\", \"old_age\"]).size()\n",
    "teen_age_count = completed_viewed_df.groupby([\"event\", \"teen_age\"]).size()\n",
    "\n",
    "# as these are hot encoded vectors, we are only interested in values where the values are '1'\n",
    "matured_age_num = [matured_age_count[0][1], matured_age_count[1][1]]\n",
    "millenial_age_num = [millenial_age_count[0][1], millenial_age_count[1][1]]\n",
    "old_age_num = [old_age_count[0][1], old_age_count[1][1]]\n",
    "teen_age_num = [teen_age_count[0][1], teen_age_count[1][1]]\n",
    "\n",
    "events = [\"Viewed\",\"Viewed & Completed\"]\n",
    "pyplot.bar(events, old_age_num, bottom=matured_age_num, color='grey', label='Old')\n",
    "pyplot.bar(events, matured_age_num, bottom=millenial_age_num, color='blue', label='Matured')\n",
    "pyplot.bar(events, teen_age_num, bottom=None, color='purple', label='Teen')\n",
    "pyplot.bar(events, millenial_age_num, bottom=teen_age_num, color='green', label='Millenial')\n",
    "pyplot.legend()\n",
    "pyplot.xlabel('Event')\n",
    "pyplot.ylabel('Number')"
   ]
  },
  {
   "cell_type": "markdown",
   "metadata": {},
   "source": [
    "Similar to our analysis for receiving vs vieweing of the offers, as the number of matured age group is high, they actively complete the offers. The old age group is less interested in completing the offers, as the number of old people who viewed and completed as compared to old people those who viewed is low."
   ]
  },
  {
   "cell_type": "code",
   "execution_count": 244,
   "metadata": {},
   "outputs": [
    {
     "data": {
      "text/plain": [
       "Text(0, 0.5, 'Number')"
      ]
     },
     "execution_count": 244,
     "metadata": {},
     "output_type": "execute_result"
    },
    {
     "data": {
      "image/png": "[encoded data removed]",
      "text/plain": [
       "<Figure size 432x288 with 1 Axes>"
      ]
     },
     "metadata": {},
     "output_type": "display_data"
    }
   ],
   "source": [
    "#impact of joining data of customers on completing the offers\n",
    "established_count = completed_viewed_df.groupby([\"event\", \"established_customers\"]).size()\n",
    "old_count = completed_viewed_df.groupby([\"event\", \"old_customers\"]).size()\n",
    "recent_count = completed_viewed_df.groupby([\"event\", \"recent_customers\"]).size()\n",
    "\n",
    "# as these are hot encoded vectors, we are only interested in values where the values are '1'\n",
    "established_num = [established_count[0][1], established_count[1][1]]\n",
    "old_num = [old_count[0][1], old_count[1][1]]\n",
    "recent_num = [recent_count[0][1], recent_count[1][1]]\n",
    "\n",
    "events = [\"Viewed\",\"Viewed & Completed\"]\n",
    "pyplot.bar(events, recent_num, bottom=established_num, color='green', label='Recent')\n",
    "pyplot.bar(events, established_num, bottom=old_num, color='blue', label='Established')\n",
    "pyplot.bar(events, old_num, bottom=None, color='grey', label='Old')\n",
    "pyplot.legend()\n",
    "pyplot.xlabel('Event')\n",
    "pyplot.ylabel('Number')"
   ]
  },
  {
   "cell_type": "markdown",
   "metadata": {},
   "source": [
    "The plot shows that the old customers are more active in offer completion as compared to established customers. Due to the large number of recent joinees, almost half of them are active in completing the offers."
   ]
  },
  {
   "cell_type": "code",
   "execution_count": 283,
   "metadata": {},
   "outputs": [
    {
     "data": {
      "text/plain": [
       "Text(0, 0.5, 'Number')"
      ]
     },
     "execution_count": 283,
     "metadata": {},
     "output_type": "execute_result"
    },
    {
     "data": {
      "image/png": "[encoded data removed]",
      "text/plain": [
       "<Figure size 432x288 with 1 Axes>"
      ]
     },
     "metadata": {},
     "output_type": "display_data"
    }
   ],
   "source": [
    "#impact of channel on completion of offer\n",
    "email_count = completed_viewed_df.groupby([\"event\", \"email\"]).size()\n",
    "mobile_count = completed_viewed_df.groupby([\"event\", \"mobile\"]).size()\n",
    "social_count = completed_viewed_df.groupby([\"event\", \"social\"]).size()\n",
    "web_count = completed_viewed_df.groupby([\"event\", \"web\"]).size()\n",
    "\n",
    "# as these are hot encoded vectors, we are only interested in values where the values are '1'\n",
    "email_num = [email_count[0][1], email_count[1][1]]\n",
    "mobile_num = [mobile_count[0][1], mobile_count[1][1]]\n",
    "social_num = [social_count[0][1], social_count[1][1]]\n",
    "web_num = [web_count[0][1], web_count[1][1]]\n",
    "\n",
    "events = [\"Viewed\",\"Viewed & Completed\"]\n",
    "pyplot.bar(events, email_num, bottom=mobile_num, color='grey', label='Email')\n",
    "pyplot.bar(events, mobile_num, bottom=social_num, color='blue', label='Mobile')\n",
    "pyplot.bar(events, social_num, bottom=web_num, color='green', label='Social')\n",
    "pyplot.bar(events, web_num, bottom=None, color='purple', label='Web')\n",
    "pyplot.legend()\n",
    "pyplot.xlabel('Event')\n",
    "pyplot.ylabel('Number')"
   ]
  },
  {
   "cell_type": "markdown",
   "metadata": {},
   "source": [
    "It can be clearly seen, that in social platforms, almost half the offers are viewed and completed. As compared to previous analysis of viewing vs receiving, we also found out that it is not being much utilised by advertisers. Social platforms can be used for better completion rates.\n",
    "\n",
    "In web advertisements, there are lesser chances of the offers being actually availed and completed. "
   ]
  },
  {
   "cell_type": "code",
   "execution_count": 248,
   "metadata": {},
   "outputs": [
    {
     "data": {
      "text/plain": [
       "Text(0, 0.5, 'Number')"
      ]
     },
     "execution_count": 248,
     "metadata": {},
     "output_type": "execute_result"
    },
    {
     "data": {
      "image/png": "[encoded data removed]",
      "text/plain": [
       "<Figure size 432x288 with 1 Axes>"
      ]
     },
     "metadata": {},
     "output_type": "display_data"
    }
   ],
   "source": [
    "# income analysis\n",
    "average_income_r = completed_viewed_df[completed_viewed_df['event']==0]['income'].mean()\n",
    "average_income_v = completed_viewed_df[completed_viewed_df['event']==1]['income'].mean()\n",
    "events = [\"Viewed\",\"Viewed & Completed\"]\n",
    "pyplot.bar(events, [average_income_r,average_income_v], bottom=None, color='purple', label='Income')\n",
    "pyplot.legend()\n",
    "pyplot.xlabel('Event')\n",
    "pyplot.ylabel('Number')"
   ]
  },
  {
   "cell_type": "markdown",
   "metadata": {},
   "source": [
    "Suprisingly, the average income of those who view the offer and complete is slightly less than, those who leave the offers after viewing. "
   ]
  },
  {
   "cell_type": "code",
   "execution_count": 282,
   "metadata": {},
   "outputs": [
    {
     "data": {
      "text/plain": [
       "Text(0, 0.5, 'Number')"
      ]
     },
     "execution_count": 282,
     "metadata": {},
     "output_type": "execute_result"
    },
    {
     "data": {
      "image/png": "[encoded data removed]",
      "text/plain": [
       "<Figure size 432x288 with 1 Axes>"
      ]
     },
     "metadata": {},
     "output_type": "display_data"
    }
   ],
   "source": [
    "#impact of offer type on completion of offer\n",
    "bogo_count = completed_viewed_df.groupby([\"event\", \"bogo\"]).size()\n",
    "discount_count = completed_viewed_df.groupby([\"event\", \"discount\"]).size()\n",
    "informational_count= completed_viewed_df.groupby([\"event\", \"informational\"]).size()\n",
    "\n",
    "# as these are hot encoded vectors, we are only interested in values where the values are '1'\n",
    "bogo_num = [bogo_count[0][1], bogo_count[1][1]]\n",
    "discount_num = [discount_count[0][1], discount_count[1][1]]\n",
    "#while running this cell, it was found that there are no informational offers that aren't completed\n",
    "informational_num = [0, informational_count[1][1]]\n",
    "\n",
    "events = [\"Viewed\",\"Viewed & Completed\"]\n",
    "pyplot.bar(events, bogo_num, bottom=discount_num, color='blue', label='Bogo')\n",
    "pyplot.bar(events, discount_num, bottom=informational_num, color='green', label='Discount')\n",
    "pyplot.bar(events, informational_num, bottom=None, color='purple', label='Informational')\n",
    "pyplot.legend()\n",
    "pyplot.xlabel('Event')\n",
    "pyplot.ylabel('Number')"
   ]
  },
  {
   "cell_type": "markdown",
   "metadata": {},
   "source": [
    "Here, it can be observed that all informational offers are viewed and completed. On the other hand, BOGO offers don't seem to be completed after vieweing. This might be because BOGO offers along with discount offers could have been availed by users without viewing the offers."
   ]
  },
  {
   "cell_type": "code",
   "execution_count": 256,
   "metadata": {},
   "outputs": [
    {
     "data": {
      "text/plain": [
       "Text(0, 0.5, 'Number')"
      ]
     },
     "execution_count": 256,
     "metadata": {},
     "output_type": "execute_result"
    },
    {
     "data": {
      "image/png": "[encoded data removed]",
      "text/plain": [
       "<Figure size 432x288 with 1 Axes>"
      ]
     },
     "metadata": {},
     "output_type": "display_data"
    }
   ],
   "source": [
    "# difficulty analysis\n",
    "average_diff_v = completed_viewed_df[completed_viewed_df['event']==0]['difficulty'].mean()\n",
    "average_diff_c = completed_viewed_df[completed_viewed_df['event']==1]['difficulty'].mean()\n",
    "events = [\"Viewed\",\"Viewed & Completed\"]\n",
    "pyplot.bar(events, [average_diff_v,average_diff_c], bottom=None, color='purple', label='Difficulty')\n",
    "pyplot.legend()\n",
    "pyplot.xlabel('Event')\n",
    "pyplot.ylabel('Number')"
   ]
  },
  {
   "cell_type": "markdown",
   "metadata": {},
   "source": [
    "The difficulty of the offers that are completed after vieweing is lower than those who are not after viewing."
   ]
  },
  {
   "cell_type": "code",
   "execution_count": 257,
   "metadata": {},
   "outputs": [
    {
     "data": {
      "text/plain": [
       "Text(0, 0.5, 'Number')"
      ]
     },
     "execution_count": 257,
     "metadata": {},
     "output_type": "execute_result"
    },
    {
     "data": {
      "image/png": "[encoded data removed]",
      "text/plain": [
       "<Figure size 432x288 with 1 Axes>"
      ]
     },
     "metadata": {},
     "output_type": "display_data"
    }
   ],
   "source": [
    "# reward analysis\n",
    "average_rew_v = completed_viewed_df[completed_viewed_df['event']==0]['reward'].mean()\n",
    "average_rew_c = completed_viewed_df[completed_viewed_df['event']==1]['reward'].mean()\n",
    "events = [\"Viewed\",\"Viewed & Completed\"]\n",
    "pyplot.bar(events, [average_rew_v,average_rew_c], bottom=None, color='purple', label='Reward')\n",
    "pyplot.legend()\n",
    "pyplot.xlabel('Event')\n",
    "pyplot.ylabel('Number')"
   ]
  },
  {
   "cell_type": "markdown",
   "metadata": {},
   "source": [
    "The reward of the offers that are completed after vieweing is also lower than those who are not after viewing."
   ]
  },
  {
   "cell_type": "code",
   "execution_count": 258,
   "metadata": {},
   "outputs": [
    {
     "data": {
      "text/plain": [
       "Text(0, 0.5, 'Number')"
      ]
     },
     "execution_count": 258,
     "metadata": {},
     "output_type": "execute_result"
    },
    {
     "data": {
      "image/png": "[encoded data removed]",
      "text/plain": [
       "<Figure size 432x288 with 1 Axes>"
      ]
     },
     "metadata": {},
     "output_type": "display_data"
    }
   ],
   "source": [
    "# duration analysis\n",
    "average_dur_v = completed_viewed_df[completed_viewed_df['event']==0]['duration'].mean()\n",
    "average_dur_c = completed_viewed_df[completed_viewed_df['event']==1]['duration'].mean()\n",
    "events = [\"Viewed\",\"Viewed & Completed\"]\n",
    "pyplot.bar(events, [average_dur_v,average_dur_c], bottom=None, color='purple', label='Duration')\n",
    "pyplot.legend()\n",
    "pyplot.xlabel('Event')\n",
    "pyplot.ylabel('Number')"
   ]
  },
  {
   "cell_type": "markdown",
   "metadata": {},
   "source": [
    "As suggested by the last three figures, offers with less difficulty, and duration even with a compromised lower reward are more likely to get completed"
   ]
  },
  {
   "cell_type": "code",
   "execution_count": null,
   "metadata": {},
   "outputs": [],
   "source": []
  }
 ],
 "metadata": {
  "kernelspec": {
   "display_name": "Python 3",
   "language": "python",
   "name": "python3"
  },
  "language_info": {
   "codemirror_mode": {
    "name": "ipython",
    "version": 3
   },
   "file_extension": ".py",
   "mimetype": "text/x-python",
   "name": "python",
   "nbconvert_exporter": "python",
   "pygments_lexer": "ipython3",
   "version": "3.7.4"
  }
 },
 "nbformat": 4,
 "nbformat_minor": 4
}
